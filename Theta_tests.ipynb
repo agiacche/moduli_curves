{
 "cells": [
  {
   "cell_type": "code",
   "execution_count": 1,
   "id": "2aff15ca",
   "metadata": {},
   "outputs": [],
   "source": [
    "from admcycles import *"
   ]
  },
  {
   "cell_type": "markdown",
   "id": "7876d27a",
   "metadata": {},
   "source": [
    "The Theta class $\\Theta_{g,n}$ is defined from Chiodo's formula.  The command `ThetaClass` require the genus and the number of marked points."
   ]
  },
  {
   "cell_type": "code",
   "execution_count": 2,
   "id": "f4f8753a",
   "metadata": {},
   "outputs": [],
   "source": [
    "def ThetaClass(g,n):\n",
    "    r = 2; s = -1; d = 2*g - 2 + n; x = -1;\n",
    "    A = tuple(1 for i in [1 .. n]);\n",
    "    return 2^(g - 1 + n)*(r^(2*g - 2*d - 1))*(x^d)*DR_cycle(g,A,d,s,chiodo_coeff=True,r_coeff=r)"
   ]
  },
  {
   "cell_type": "markdown",
   "id": "5f936a39",
   "metadata": {},
   "source": [
    "A simple test: $\\Theta_{1,1} = 3 \\psi_1$."
   ]
  },
  {
   "cell_type": "code",
   "execution_count": 3,
   "id": "6ab3b279",
   "metadata": {},
   "outputs": [
    {
     "data": {
      "text/plain": [
       "True"
      ]
     },
     "execution_count": 3,
     "metadata": {},
     "output_type": "execute_result"
    }
   ],
   "source": [
    "ThetaClass(1,1) == 3*psiclass(1,1,1)"
   ]
  },
  {
   "cell_type": "markdown",
   "id": "84b7356d",
   "metadata": {},
   "source": [
    "The Kappa polynomial $\\mathbb{K}_{g,n}$ (`Kpoly` in the code) is defined as\n",
    "$$\n",
    "    \\mathbb{K}_{g,n} = \\exp\\left( \\sum_{m \\ge 1} s_m \\kappa_m \\right) \\,,\n",
    "$$\n",
    "where the coefficients $s_m$ (`Kcoeff` in the code) are defined as\n",
    "$$\n",
    "    \\exp\\left( - \\sum_{m \\ge 1} s_m t^m \\right)\n",
    "    =\n",
    "    \\sum_{k \\ge 0} (-1)^k (2k+1)!! t^k \\,.\n",
    "$$\n",
    "The command `Kpolydeg` extracts the degree $d$ part of $\\mathbb{K}_{g,n}$. `TestDegree` tests the degree range of $\\mathbb{K}_{g,n}$."
   ]
  },
  {
   "cell_type": "code",
   "execution_count": 4,
   "id": "d76d074d",
   "metadata": {},
   "outputs": [],
   "source": [
    "def DoubleFact(k):\n",
    "    return gamma(2*k+3)/((2^(k+1))*gamma(k+2));\n",
    "\n",
    "def Kcoeff(m):\n",
    "    var('t')\n",
    "    S = taylor(- log( sum([ ((-1)^k)*DoubleFact(k)*(t^k) for k in [0 .. m] ]) ),t,0,m)\n",
    "    return S.coefficient(t^m);\n",
    "\n",
    "def expclass(X,g,n):\n",
    "    return fundclass(g,n) + sum([(X^k)*(1/gamma(k+1)) for k in [1..(3*g - 3 + n)]]);\n",
    "\n",
    "def Kpoly(g,n):\n",
    "    X = sum([ Kcoeff(m)*kappaclass(m,g,n) for m in [1..(3*g - 3 + n)]])\n",
    "    return expclass(X,g,n);\n",
    "\n",
    "def Kpolydeg(d,g,n):\n",
    "    return Kpoly(g,n).degree_part(d);\n",
    "\n",
    "def TestDegree(g,n):\n",
    "    print(\n",
    "        \"The expected degree is in the range [0 .. %s]. The Kappa polynomialis non-zero in degree %s.\"\n",
    "        %(2*g-2+n,[d for d in [0 .. (3*g - 3 + n)] if Kpolydeg(d,g,n).degree_part(d) != 0]))\n",
    "    return"
   ]
  },
  {
   "cell_type": "markdown",
   "id": "ed976a07",
   "metadata": {},
   "source": [
    "A simple test: $\\mathbb{K}_{2,2} = \\Theta_{2,2}$."
   ]
  },
  {
   "cell_type": "code",
   "execution_count": 5,
   "id": "ee96590a",
   "metadata": {},
   "outputs": [
    {
     "data": {
      "text/plain": [
       "True"
      ]
     },
     "execution_count": 5,
     "metadata": {},
     "output_type": "execute_result"
    }
   ],
   "source": [
    "Kpolydeg(4,2,2) == ThetaClass(2,2)"
   ]
  },
  {
   "cell_type": "code",
   "execution_count": 6,
   "id": "e4960197",
   "metadata": {},
   "outputs": [
    {
     "name": "stdout",
     "output_type": "stream",
     "text": [
      "The expected degree is in the range [0 .. 2]. The Kappa polynomialis non-zero in degree [0, 1, 2, 3].\n"
     ]
    },
    {
     "data": {
      "text/plain": [
       "Graph :      [2] [[]] []\n",
       "Polynomial : 69*(kappa_3)_0 - 63/2*(kappa_1*kappa_2)_0 + 9/2*(kappa_1^3)_0"
      ]
     },
     "execution_count": 6,
     "metadata": {},
     "output_type": "execute_result"
    }
   ],
   "source": [
    "TestDegree(2,0)\n",
    "Kpolydeg(3,2,0)"
   ]
  },
  {
   "cell_type": "code",
   "execution_count": 7,
   "id": "475d1c29",
   "metadata": {},
   "outputs": [
    {
     "name": "stdout",
     "output_type": "stream",
     "text": [
      "The expected degree is in the range [0 .. 4]. The Kappa polynomialis non-zero in degree [0, 1, 2, 3, 4, 6].\n"
     ]
    },
    {
     "data": {
      "text/plain": [
       "Graph :      [3] [[]] []\n",
       "Polynomial : -197127/2*(kappa_6)_0 + 108729/5*(kappa_1*kappa_5)_0 + 53109/8*(kappa_2*kappa_4)_0 + 4761/2*(kappa_3^2)_0 - 22761/8*(kappa_1^2*kappa_4)_0 - 4347/2*(kappa_1*kappa_2*kappa_3)_0 - 3087/16*(kappa_2^3)_0 + 621/2*(kappa_1^3*kappa_3)_0 + 3969/16*(kappa_1^2*kappa_2^2)_0 - 567/16*(kappa_1^4*kappa_2)_0 + 81/80*(kappa_1^6)_0"
      ]
     },
     "execution_count": 7,
     "metadata": {},
     "output_type": "execute_result"
    }
   ],
   "source": [
    "TestDegree(3,0)\n",
    "Kpolydeg(6,3,0)"
   ]
  }
 ],
 "metadata": {
  "kernelspec": {
   "display_name": "SageMath 9.5",
   "language": "sage",
   "name": "sagemath-9.5"
  },
  "language_info": {
   "codemirror_mode": {
    "name": "ipython",
    "version": 3
   },
   "file_extension": ".py",
   "mimetype": "text/x-python",
   "name": "python",
   "nbconvert_exporter": "python",
   "pygments_lexer": "ipython3",
   "version": "3.9.9"
  }
 },
 "nbformat": 4,
 "nbformat_minor": 5
}
